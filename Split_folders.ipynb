{
 "cells": [
  {
   "cell_type": "code",
   "execution_count": 6,
   "metadata": {},
   "outputs": [],
   "source": [
    "import os\n",
    "import numpy as np\n",
    "import shutil\n",
    "import random"
   ]
  },
  {
   "cell_type": "code",
   "execution_count": 12,
   "metadata": {},
   "outputs": [],
   "source": [
    "root_dir = \"Dataset/\"\n",
    "classes_dir = ['Covid-19', 'No_findings', 'Pneumonia']"
   ]
  },
  {
   "cell_type": "code",
   "execution_count": 8,
   "metadata": {},
   "outputs": [],
   "source": [
    "val_ratio = 0.25\n",
    "test_ratio = 0.25"
   ]
  },
  {
   "cell_type": "code",
   "execution_count": 9,
   "metadata": {},
   "outputs": [],
   "source": [
    "target_dir = \"Data/\""
   ]
  },
  {
   "cell_type": "code",
   "execution_count": 14,
   "metadata": {},
   "outputs": [
    {
     "name": "stdout",
     "output_type": "stream",
     "text": [
      "Total images:  125\n",
      "Training:  62\n",
      "Validation:  31\n",
      "Testing:  32\n",
      "Total images:  500\n",
      "Training:  250\n",
      "Validation:  125\n",
      "Testing:  125\n",
      "Total images:  500\n",
      "Training:  250\n",
      "Validation:  125\n",
      "Testing:  125\n",
      "----------Dataset sliced----------\n"
     ]
    }
   ],
   "source": [
    "for cls in classes_dir:\n",
    "    os.makedirs(target_dir +'train/' + cls)\n",
    "    os.makedirs(target_dir +'val/' + cls)\n",
    "    os.makedirs(target_dir +'test/' + cls)\n",
    "\n",
    "    src = root_dir + cls \n",
    "    \n",
    "    allFileNames = os.listdir(src)\n",
    "    train_FileNames, val_FileNames, test_FileNames = np.split(np.array(allFileNames),\n",
    "                                                          [int(len(allFileNames)* (1 - (val_ratio + test_ratio))), \n",
    "                                                           int(len(allFileNames)* (1 - test_ratio))])\n",
    "\n",
    "    train_FileNames = [src+'/'+ name for name in train_FileNames.tolist()]\n",
    "    val_FileNames = [src+'/' + name for name in val_FileNames.tolist()]\n",
    "    test_FileNames = [src+'/' + name for name in test_FileNames.tolist()]\n",
    "\n",
    "    print('Total images: ', len(allFileNames))\n",
    "    print('Training: ', len(train_FileNames))\n",
    "    print('Validation: ', len(val_FileNames))\n",
    "    print('Testing: ', len(test_FileNames))\n",
    "\n",
    "    for name in train_FileNames:\n",
    "        shutil.copy(name, target_dir +'train/' + cls)\n",
    "\n",
    "    for name in val_FileNames:\n",
    "        shutil.copy(name, target_dir +'val/' + cls)\n",
    "        \n",
    "    for name in test_FileNames:\n",
    "        shutil.copy(name, target_dir +'test/' + cls)\n",
    "        \n",
    "print (\"----------Dataset sliced----------\")"
   ]
  }
 ],
 "metadata": {
  "kernelspec": {
   "display_name": "Python 3",
   "language": "python",
   "name": "python3"
  },
  "language_info": {
   "codemirror_mode": {
    "name": "ipython",
    "version": 3
   },
   "file_extension": ".py",
   "mimetype": "text/x-python",
   "name": "python",
   "nbconvert_exporter": "python",
   "pygments_lexer": "ipython3",
   "version": "3.8.5"
  }
 },
 "nbformat": 4,
 "nbformat_minor": 4
}
